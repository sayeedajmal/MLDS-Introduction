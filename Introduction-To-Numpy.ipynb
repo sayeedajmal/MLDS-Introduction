{
 "cells": [
  {
   "cell_type": "code",
   "execution_count": 1,
   "id": "ca32f203-b6ab-4ee4-9d7a-7f7a9b787bf0",
   "metadata": {},
   "outputs": [],
   "source": [
    "import numpy as np"
   ]
  },
  {
   "cell_type": "markdown",
   "id": "79ebe42e-8398-4699-951b-bdea0b501150",
   "metadata": {
    "jp-MarkdownHeadingCollapsed": true
   },
   "source": [
    "# Datatypes and Attributes"
   ]
  },
  {
   "cell_type": "code",
   "execution_count": 2,
   "id": "1dbae79c-aaac-4834-9774-a8560952a9e8",
   "metadata": {},
   "outputs": [
    {
     "data": {
      "text/plain": [
       "array([1, 2, 3])"
      ]
     },
     "execution_count": 2,
     "metadata": {},
     "output_type": "execute_result"
    }
   ],
   "source": [
    "# Main Datatype is ndarrray n dimentions arrays\n",
    "array1=np.array([1,2,3])\n",
    "array1"
   ]
  },
  {
   "cell_type": "code",
   "execution_count": 3,
   "id": "5719c339-340f-45de-a742-11e2f77833b7",
   "metadata": {},
   "outputs": [
    {
     "data": {
      "text/plain": [
       "numpy.ndarray"
      ]
     },
     "execution_count": 3,
     "metadata": {},
     "output_type": "execute_result"
    }
   ],
   "source": [
    "type(array1)"
   ]
  },
  {
   "cell_type": "code",
   "execution_count": 4,
   "id": "2304249d-287b-486d-bee3-1a5a4eec6b14",
   "metadata": {},
   "outputs": [
    {
     "data": {
      "text/plain": [
       "array([[1. , 2.5, 3.3],\n",
       "       [4. , 5.6, 6.6]])"
      ]
     },
     "execution_count": 4,
     "metadata": {},
     "output_type": "execute_result"
    }
   ],
   "source": [
    "a2=np.array([[1,2.5,3.3],\n",
    "             [4,5.6,6.6]])\n",
    "a3=np.array([[[1,2.5,3.3],\n",
    "             [4,5.6,6.6],\n",
    "            [7.7, 8, 9]],[\n",
    "            [56,76,76],\n",
    "            [43,32,23],\n",
    "            [21,23,45]\n",
    "            ]])\n",
    "a2"
   ]
  },
  {
   "cell_type": "code",
   "execution_count": 5,
   "id": "a0e59a05-65ab-49f7-a175-887114e4c887",
   "metadata": {},
   "outputs": [
    {
     "data": {
      "text/plain": [
       "array([[[ 1. ,  2.5,  3.3],\n",
       "        [ 4. ,  5.6,  6.6],\n",
       "        [ 7.7,  8. ,  9. ]],\n",
       "\n",
       "       [[56. , 76. , 76. ],\n",
       "        [43. , 32. , 23. ],\n",
       "        [21. , 23. , 45. ]]])"
      ]
     },
     "execution_count": 5,
     "metadata": {},
     "output_type": "execute_result"
    }
   ],
   "source": [
    "a3"
   ]
  },
  {
   "cell_type": "code",
   "execution_count": 6,
   "id": "c7bee56e-2215-4683-8fc6-c361cd192e15",
   "metadata": {},
   "outputs": [
    {
     "data": {
      "text/plain": [
       "(3,)"
      ]
     },
     "execution_count": 6,
     "metadata": {},
     "output_type": "execute_result"
    }
   ],
   "source": [
    "#Attributes\n",
    "array1.shape"
   ]
  },
  {
   "cell_type": "code",
   "execution_count": 7,
   "id": "4c681894-b071-4c17-a9a0-f753e9d46ab5",
   "metadata": {},
   "outputs": [
    {
     "data": {
      "text/plain": [
       "(2, 3)"
      ]
     },
     "execution_count": 7,
     "metadata": {},
     "output_type": "execute_result"
    }
   ],
   "source": [
    "a2.shape"
   ]
  },
  {
   "cell_type": "code",
   "execution_count": 8,
   "id": "88ffeb4d-a541-4051-a781-d5e33e557346",
   "metadata": {},
   "outputs": [
    {
     "data": {
      "text/plain": [
       "(2, 3, 3)"
      ]
     },
     "execution_count": 8,
     "metadata": {},
     "output_type": "execute_result"
    }
   ],
   "source": [
    "a3.shape"
   ]
  },
  {
   "cell_type": "code",
   "execution_count": 9,
   "id": "05a45fea-d03d-4a04-a927-32fb7ef3acf5",
   "metadata": {},
   "outputs": [
    {
     "data": {
      "text/plain": [
       "(1, 2, 3)"
      ]
     },
     "execution_count": 9,
     "metadata": {},
     "output_type": "execute_result"
    }
   ],
   "source": [
    "array1.ndim, a2.ndim, a3.ndim"
   ]
  },
  {
   "cell_type": "code",
   "execution_count": 10,
   "id": "0da9f78f-72d7-4941-8a07-79e59bf40dbf",
   "metadata": {},
   "outputs": [
    {
     "data": {
      "text/plain": [
       "(dtype('int64'), dtype('float64'), dtype('float64'))"
      ]
     },
     "execution_count": 10,
     "metadata": {},
     "output_type": "execute_result"
    }
   ],
   "source": [
    "array1.dtype, a2.dtype, a3.dtype"
   ]
  },
  {
   "cell_type": "code",
   "execution_count": 11,
   "id": "05159671-9dca-41af-88b4-618352f52bce",
   "metadata": {},
   "outputs": [
    {
     "data": {
      "text/plain": [
       "(3, 6, 18)"
      ]
     },
     "execution_count": 11,
     "metadata": {},
     "output_type": "execute_result"
    }
   ],
   "source": [
    "array1.size, a2.size, a3.size"
   ]
  },
  {
   "cell_type": "code",
   "execution_count": 12,
   "id": "d47a2898-3569-48f3-8144-36309e3fcb09",
   "metadata": {},
   "outputs": [
    {
     "data": {
      "text/html": [
       "<div>\n",
       "<style scoped>\n",
       "    .dataframe tbody tr th:only-of-type {\n",
       "        vertical-align: middle;\n",
       "    }\n",
       "\n",
       "    .dataframe tbody tr th {\n",
       "        vertical-align: top;\n",
       "    }\n",
       "\n",
       "    .dataframe thead th {\n",
       "        text-align: right;\n",
       "    }\n",
       "</style>\n",
       "<table border=\"1\" class=\"dataframe\">\n",
       "  <thead>\n",
       "    <tr style=\"text-align: right;\">\n",
       "      <th></th>\n",
       "      <th>0</th>\n",
       "      <th>1</th>\n",
       "      <th>2</th>\n",
       "    </tr>\n",
       "  </thead>\n",
       "  <tbody>\n",
       "    <tr>\n",
       "      <th>0</th>\n",
       "      <td>1.0</td>\n",
       "      <td>2.5</td>\n",
       "      <td>3.3</td>\n",
       "    </tr>\n",
       "    <tr>\n",
       "      <th>1</th>\n",
       "      <td>4.0</td>\n",
       "      <td>5.6</td>\n",
       "      <td>6.6</td>\n",
       "    </tr>\n",
       "  </tbody>\n",
       "</table>\n",
       "</div>"
      ],
      "text/plain": [
       "     0    1    2\n",
       "0  1.0  2.5  3.3\n",
       "1  4.0  5.6  6.6"
      ]
     },
     "execution_count": 12,
     "metadata": {},
     "output_type": "execute_result"
    }
   ],
   "source": [
    "#CREATE A DATAFRAME FROM A NUMPY ARRRAY\n",
    "import pandas as pd\n",
    "df=pd.DataFrame(a2)\n",
    "df"
   ]
  },
  {
   "cell_type": "markdown",
   "id": "d736389e-709e-4a09-9ccf-1d5a3641e517",
   "metadata": {
    "jp-MarkdownHeadingCollapsed": true
   },
   "source": [
    "# Creating Arrays"
   ]
  },
  {
   "cell_type": "code",
   "execution_count": 13,
   "id": "c518b578-0d4b-4449-b6ba-eee61cb890cb",
   "metadata": {},
   "outputs": [
    {
     "data": {
      "text/plain": [
       "array([1, 2, 3])"
      ]
     },
     "execution_count": 13,
     "metadata": {},
     "output_type": "execute_result"
    }
   ],
   "source": [
    "sample_array=np.array([1,2,3])\n",
    "sample_array"
   ]
  },
  {
   "cell_type": "code",
   "execution_count": 14,
   "id": "77cfb843-909d-4937-a623-c77e84dffd4b",
   "metadata": {},
   "outputs": [
    {
     "data": {
      "text/plain": [
       "dtype('int64')"
      ]
     },
     "execution_count": 14,
     "metadata": {},
     "output_type": "execute_result"
    }
   ],
   "source": [
    "sample_array.dtype"
   ]
  },
  {
   "cell_type": "code",
   "execution_count": 15,
   "id": "43605a48-40be-42de-8a05-4e649e92e1c1",
   "metadata": {},
   "outputs": [],
   "source": [
    "ones=np.ones((2,3))"
   ]
  },
  {
   "cell_type": "code",
   "execution_count": 16,
   "id": "8a1e34a7-cb9d-4b7e-ae27-c391b194b2db",
   "metadata": {},
   "outputs": [
    {
     "data": {
      "text/plain": [
       "array([[1., 1., 1.],\n",
       "       [1., 1., 1.]])"
      ]
     },
     "execution_count": 16,
     "metadata": {},
     "output_type": "execute_result"
    }
   ],
   "source": [
    "ones"
   ]
  },
  {
   "cell_type": "code",
   "execution_count": 17,
   "id": "d41becfb-f112-42a9-b150-9cc8dd3df313",
   "metadata": {},
   "outputs": [
    {
     "data": {
      "text/plain": [
       "dtype('float64')"
      ]
     },
     "execution_count": 17,
     "metadata": {},
     "output_type": "execute_result"
    }
   ],
   "source": [
    "ones.dtype"
   ]
  },
  {
   "cell_type": "code",
   "execution_count": 18,
   "id": "e455730f-dce0-41cc-9d0a-72995a9645a0",
   "metadata": {},
   "outputs": [
    {
     "data": {
      "text/plain": [
       "numpy.ndarray"
      ]
     },
     "execution_count": 18,
     "metadata": {},
     "output_type": "execute_result"
    }
   ],
   "source": [
    "type(ones)"
   ]
  },
  {
   "cell_type": "code",
   "execution_count": 19,
   "id": "79a310a9-2d8a-474d-a7fb-2854dcdc87c0",
   "metadata": {},
   "outputs": [],
   "source": [
    "zeros=np.zeros((2,3))"
   ]
  },
  {
   "cell_type": "code",
   "execution_count": 20,
   "id": "2fcc5fd3-8808-4af2-86cf-1cb7de73f5a5",
   "metadata": {},
   "outputs": [
    {
     "data": {
      "text/plain": [
       "array([[0., 0., 0.],\n",
       "       [0., 0., 0.]])"
      ]
     },
     "execution_count": 20,
     "metadata": {},
     "output_type": "execute_result"
    }
   ],
   "source": [
    "zeros"
   ]
  },
  {
   "cell_type": "code",
   "execution_count": 21,
   "id": "4e2f26f2-3f7d-4d4d-a2f9-dd9a30bc3ea2",
   "metadata": {},
   "outputs": [
    {
     "data": {
      "text/plain": [
       "array([0, 2, 4, 6, 8])"
      ]
     },
     "execution_count": 21,
     "metadata": {},
     "output_type": "execute_result"
    }
   ],
   "source": [
    "range_array=np.arange(0,10,2)\n",
    "range_array"
   ]
  },
  {
   "cell_type": "code",
   "execution_count": 22,
   "id": "332bcf10-4cb3-4630-811b-91c6c8758e22",
   "metadata": {},
   "outputs": [
    {
     "data": {
      "text/plain": [
       "array([[4, 7, 2, 9, 6],\n",
       "       [7, 3, 6, 8, 1],\n",
       "       [8, 2, 4, 7, 8]])"
      ]
     },
     "execution_count": 22,
     "metadata": {},
     "output_type": "execute_result"
    }
   ],
   "source": [
    "random_array=np.random.randint(0,10,size=(3,5))#3 row and 5 column\n",
    "random_array"
   ]
  },
  {
   "cell_type": "code",
   "execution_count": 23,
   "id": "1cd77cd2-63a3-4966-95f1-7e53da220df5",
   "metadata": {},
   "outputs": [
    {
     "data": {
      "text/plain": [
       "(3, 5)"
      ]
     },
     "execution_count": 23,
     "metadata": {},
     "output_type": "execute_result"
    }
   ],
   "source": [
    "random_array.shape"
   ]
  },
  {
   "cell_type": "code",
   "execution_count": 24,
   "id": "8bdeb5ca-12c2-4c32-84cc-0dbd3af93e7f",
   "metadata": {},
   "outputs": [
    {
     "data": {
      "text/plain": [
       "15"
      ]
     },
     "execution_count": 24,
     "metadata": {},
     "output_type": "execute_result"
    }
   ],
   "source": [
    "random_array.size"
   ]
  },
  {
   "cell_type": "code",
   "execution_count": 25,
   "id": "9467a9a2-af19-437e-8ca1-42ec9aa1f4d4",
   "metadata": {},
   "outputs": [],
   "source": [
    "random_array2=np.random.rand(2,5)"
   ]
  },
  {
   "cell_type": "code",
   "execution_count": 26,
   "id": "9cbc3159-d38e-4bed-91d9-d76833391139",
   "metadata": {},
   "outputs": [
    {
     "data": {
      "text/plain": [
       "array([[0.68118126, 0.77474726, 0.68508473, 0.22687987, 0.75482558],\n",
       "       [0.94882005, 0.8836473 , 0.36782868, 0.66856426, 0.357083  ]])"
      ]
     },
     "execution_count": 26,
     "metadata": {},
     "output_type": "execute_result"
    }
   ],
   "source": [
    "random_array2"
   ]
  },
  {
   "cell_type": "code",
   "execution_count": 27,
   "id": "df29e9fe-00f9-47d5-81ec-9b0ce7b3af60",
   "metadata": {},
   "outputs": [
    {
     "data": {
      "text/plain": [
       "array([[5, 0],\n",
       "       [3, 3],\n",
       "       [7, 9],\n",
       "       [3, 5],\n",
       "       [2, 4]])"
      ]
     },
     "execution_count": 27,
     "metadata": {},
     "output_type": "execute_result"
    }
   ],
   "source": [
    "# P-seudo-random numbers\n",
    "np.random.seed(seed=0)\n",
    "random_array3=np.random.randint(10, size=(5,2))\n",
    "random_array3"
   ]
  },
  {
   "cell_type": "markdown",
   "id": "b56015c4-7e20-4cbd-8af3-e2f2e5f94609",
   "metadata": {
    "jp-MarkdownHeadingCollapsed": true
   },
   "source": [
    "# VIEWING ARRAYS AND MATRICES"
   ]
  },
  {
   "cell_type": "code",
   "execution_count": 28,
   "id": "dc1672ca-2808-4f5f-aa49-359bc160fb15",
   "metadata": {},
   "outputs": [
    {
     "data": {
      "text/plain": [
       "array([0, 2, 3, 4, 5, 7, 9])"
      ]
     },
     "execution_count": 28,
     "metadata": {},
     "output_type": "execute_result"
    }
   ],
   "source": [
    "np.unique(random_array3)"
   ]
  },
  {
   "cell_type": "code",
   "execution_count": 29,
   "id": "7a039f03-1efe-4116-8cdc-f0d579a4b657",
   "metadata": {},
   "outputs": [
    {
     "data": {
      "text/plain": [
       "array([[[ 1. ,  2.5,  3.3],\n",
       "        [ 4. ,  5.6,  6.6],\n",
       "        [ 7.7,  8. ,  9. ]],\n",
       "\n",
       "       [[56. , 76. , 76. ],\n",
       "        [43. , 32. , 23. ],\n",
       "        [21. , 23. , 45. ]]])"
      ]
     },
     "execution_count": 29,
     "metadata": {},
     "output_type": "execute_result"
    }
   ],
   "source": [
    "# Indexing \n",
    "a3"
   ]
  },
  {
   "cell_type": "code",
   "execution_count": 30,
   "id": "05ee87c7-4ed4-47a4-a9eb-6d47f89bacae",
   "metadata": {},
   "outputs": [
    {
     "data": {
      "text/plain": [
       "array([[[ 1. ,  2.5,  3.3],\n",
       "        [ 4. ,  5.6,  6.6]],\n",
       "\n",
       "       [[56. , 76. , 76. ],\n",
       "        [43. , 32. , 23. ]]])"
      ]
     },
     "execution_count": 30,
     "metadata": {},
     "output_type": "execute_result"
    }
   ],
   "source": [
    "a3[:2, :2, :3]"
   ]
  },
  {
   "cell_type": "code",
   "execution_count": 31,
   "id": "45b733b3-f328-4313-9667-76bd836be9bd",
   "metadata": {},
   "outputs": [],
   "source": [
    "a4=np.random.randint(5,size=(2,3,4,5))"
   ]
  },
  {
   "cell_type": "code",
   "execution_count": 32,
   "id": "7a58e499-df6f-47f4-a352-0c6769f2cbc1",
   "metadata": {},
   "outputs": [
    {
     "data": {
      "text/plain": [
       "array([[[[0, 0, 4, 2, 1],\n",
       "         [0, 1, 1, 0, 1],\n",
       "         [4, 3, 0, 3, 0],\n",
       "         [2, 3, 0, 1, 3]],\n",
       "\n",
       "        [[3, 3, 0, 1, 1],\n",
       "         [1, 0, 2, 4, 3],\n",
       "         [3, 2, 4, 2, 0],\n",
       "         [0, 4, 0, 4, 1]],\n",
       "\n",
       "        [[4, 1, 2, 2, 0],\n",
       "         [1, 1, 1, 1, 3],\n",
       "         [3, 2, 3, 0, 3],\n",
       "         [4, 1, 2, 4, 3]]],\n",
       "\n",
       "\n",
       "       [[[4, 4, 4, 3, 4],\n",
       "         [4, 4, 0, 4, 3],\n",
       "         [2, 0, 1, 1, 3],\n",
       "         [0, 0, 1, 2, 4]],\n",
       "\n",
       "        [[2, 0, 3, 2, 2],\n",
       "         [0, 1, 0, 2, 2],\n",
       "         [3, 2, 3, 2, 1],\n",
       "         [2, 3, 3, 3, 2]],\n",
       "\n",
       "        [[3, 4, 1, 2, 3],\n",
       "         [1, 2, 1, 4, 2],\n",
       "         [3, 0, 3, 2, 3],\n",
       "         [0, 0, 0, 3, 2]]]])"
      ]
     },
     "execution_count": 32,
     "metadata": {},
     "output_type": "execute_result"
    }
   ],
   "source": [
    "a4"
   ]
  },
  {
   "cell_type": "code",
   "execution_count": 33,
   "id": "211a9300-dd1e-4c1f-a38a-cd60bde14f4c",
   "metadata": {},
   "outputs": [
    {
     "data": {
      "text/plain": [
       "numpy.ndarray"
      ]
     },
     "execution_count": 33,
     "metadata": {},
     "output_type": "execute_result"
    }
   ],
   "source": [
    "type(a4)"
   ]
  },
  {
   "cell_type": "code",
   "execution_count": 34,
   "id": "5651f90e-7fad-4452-b389-4c9eb22109f3",
   "metadata": {},
   "outputs": [
    {
     "data": {
      "text/plain": [
       "dtype('int64')"
      ]
     },
     "execution_count": 34,
     "metadata": {},
     "output_type": "execute_result"
    }
   ],
   "source": [
    "a4.dtype"
   ]
  },
  {
   "cell_type": "code",
   "execution_count": 35,
   "id": "709a9821-50c4-4041-83bb-31376419b494",
   "metadata": {},
   "outputs": [
    {
     "data": {
      "text/plain": [
       "4"
      ]
     },
     "execution_count": 35,
     "metadata": {},
     "output_type": "execute_result"
    }
   ],
   "source": [
    "a4.ndim"
   ]
  },
  {
   "cell_type": "code",
   "execution_count": 36,
   "id": "76bec341-276d-43f7-9c80-b57f917c7724",
   "metadata": {},
   "outputs": [
    {
     "data": {
      "text/plain": [
       "(2, 3, 4, 5)"
      ]
     },
     "execution_count": 36,
     "metadata": {},
     "output_type": "execute_result"
    }
   ],
   "source": [
    "a4.shape"
   ]
  },
  {
   "cell_type": "code",
   "execution_count": 37,
   "id": "30128494-72e6-4619-80c3-99abc7b7de93",
   "metadata": {},
   "outputs": [
    {
     "data": {
      "text/plain": [
       "array([[[[0, 0, 4, 2, 1],\n",
       "         [0, 1, 1, 0, 1],\n",
       "         [4, 3, 0, 3, 0]],\n",
       "\n",
       "        [[3, 3, 0, 1, 1],\n",
       "         [1, 0, 2, 4, 3],\n",
       "         [3, 2, 4, 2, 0]],\n",
       "\n",
       "        [[4, 1, 2, 2, 0],\n",
       "         [1, 1, 1, 1, 3],\n",
       "         [3, 2, 3, 0, 3]]],\n",
       "\n",
       "\n",
       "       [[[4, 4, 4, 3, 4],\n",
       "         [4, 4, 0, 4, 3],\n",
       "         [2, 0, 1, 1, 3]],\n",
       "\n",
       "        [[2, 0, 3, 2, 2],\n",
       "         [0, 1, 0, 2, 2],\n",
       "         [3, 2, 3, 2, 1]],\n",
       "\n",
       "        [[3, 4, 1, 2, 3],\n",
       "         [1, 2, 1, 4, 2],\n",
       "         [3, 0, 3, 2, 3]]]])"
      ]
     },
     "execution_count": 37,
     "metadata": {},
     "output_type": "execute_result"
    }
   ],
   "source": [
    "#Get First 4 Numbers of the Inner most arrays\n",
    "a4[:,:,:3,:]"
   ]
  },
  {
   "cell_type": "markdown",
   "id": "f2c41a87-3578-48b0-ba5a-c698a21ae4cd",
   "metadata": {},
   "source": [
    "# Manipulating and Comparing Arrays"
   ]
  },
  {
   "cell_type": "markdown",
   "id": "6fd99523-7154-4668-9377-a0293895e4c9",
   "metadata": {
    "jp-MarkdownHeadingCollapsed": true
   },
   "source": [
    "## Arithmetic"
   ]
  },
  {
   "cell_type": "code",
   "execution_count": 38,
   "id": "8fb3d830-01e5-4fd0-86f0-594aedb2ef82",
   "metadata": {},
   "outputs": [
    {
     "data": {
      "text/plain": [
       "array([1, 2, 3])"
      ]
     },
     "execution_count": 38,
     "metadata": {},
     "output_type": "execute_result"
    }
   ],
   "source": [
    "array1"
   ]
  },
  {
   "cell_type": "code",
   "execution_count": 39,
   "id": "32dc88cc-c88b-4fec-970c-8605ee36eb62",
   "metadata": {},
   "outputs": [
    {
     "data": {
      "text/plain": [
       "array([1., 1., 1.])"
      ]
     },
     "execution_count": 39,
     "metadata": {},
     "output_type": "execute_result"
    }
   ],
   "source": [
    "ones=np.ones(3)\n",
    "ones"
   ]
  },
  {
   "cell_type": "code",
   "execution_count": 40,
   "id": "20a5af81-e699-42e2-ad8d-c17e9d4ba166",
   "metadata": {},
   "outputs": [
    {
     "data": {
      "text/plain": [
       "array([2., 3., 4.])"
      ]
     },
     "execution_count": 40,
     "metadata": {},
     "output_type": "execute_result"
    }
   ],
   "source": [
    "array1+ones"
   ]
  },
  {
   "cell_type": "code",
   "execution_count": 41,
   "id": "7ba938e3-bf10-4680-9a50-9aa575f715c3",
   "metadata": {},
   "outputs": [
    {
     "data": {
      "text/plain": [
       "array([0., 1., 2.])"
      ]
     },
     "execution_count": 41,
     "metadata": {},
     "output_type": "execute_result"
    }
   ],
   "source": [
    "array1-ones"
   ]
  },
  {
   "cell_type": "code",
   "execution_count": 42,
   "id": "3494a626-ddb9-452b-b4da-65c55fbb80ed",
   "metadata": {},
   "outputs": [
    {
     "data": {
      "text/plain": [
       "array([1., 2., 3.])"
      ]
     },
     "execution_count": 42,
     "metadata": {},
     "output_type": "execute_result"
    }
   ],
   "source": [
    "array1* ones"
   ]
  },
  {
   "cell_type": "code",
   "execution_count": 43,
   "id": "556dd6ff-f573-4284-b0e4-7e12b88d65b4",
   "metadata": {},
   "outputs": [
    {
     "data": {
      "text/plain": [
       "array([1., 2., 3.])"
      ]
     },
     "execution_count": 43,
     "metadata": {},
     "output_type": "execute_result"
    }
   ],
   "source": [
    "array1 / ones"
   ]
  },
  {
   "cell_type": "code",
   "execution_count": 44,
   "id": "3e3da944-61eb-44d7-ac2c-1905cff61aa7",
   "metadata": {},
   "outputs": [
    {
     "data": {
      "text/plain": [
       "array([0., 0., 0.])"
      ]
     },
     "execution_count": 44,
     "metadata": {},
     "output_type": "execute_result"
    }
   ],
   "source": [
    "array1%ones"
   ]
  },
  {
   "cell_type": "code",
   "execution_count": 45,
   "id": "a9e5bfa5-1cdd-4f71-89b7-5101a0e877a2",
   "metadata": {},
   "outputs": [
    {
     "data": {
      "text/plain": [
       "array([[1.  , 1.25, 1.1 ],\n",
       "       [4.  , 2.8 , 2.2 ]])"
      ]
     },
     "execution_count": 45,
     "metadata": {},
     "output_type": "execute_result"
    }
   ],
   "source": [
    "a2/array1"
   ]
  },
  {
   "cell_type": "code",
   "execution_count": 46,
   "id": "2d213775-67f6-4535-82a2-6eb3d6aba727",
   "metadata": {},
   "outputs": [
    {
     "data": {
      "text/plain": [
       "array([[1., 1., 1.],\n",
       "       [4., 2., 2.]])"
      ]
     },
     "execution_count": 46,
     "metadata": {},
     "output_type": "execute_result"
    }
   ],
   "source": [
    "a2 // array1 # // for floor divsion removoes decimals"
   ]
  },
  {
   "cell_type": "code",
   "execution_count": 47,
   "id": "db407fb1-ef70-4424-8dd2-04f784c4439b",
   "metadata": {},
   "outputs": [
    {
     "data": {
      "text/plain": [
       "array([[ 1.  ,  6.25, 10.89],\n",
       "       [16.  , 31.36, 43.56]])"
      ]
     },
     "execution_count": 47,
     "metadata": {},
     "output_type": "execute_result"
    }
   ],
   "source": [
    "#a2 ** 2\n",
    "np.square(a2)"
   ]
  },
  {
   "cell_type": "code",
   "execution_count": 48,
   "id": "e937ed29-b1b4-4928-b0ab-e9585079f273",
   "metadata": {},
   "outputs": [
    {
     "data": {
      "text/plain": [
       "array([[1. , 0.5, 1.3],\n",
       "       [0. , 1.6, 0.6]])"
      ]
     },
     "execution_count": 48,
     "metadata": {},
     "output_type": "execute_result"
    }
   ],
   "source": [
    "a2 % 2"
   ]
  },
  {
   "cell_type": "code",
   "execution_count": 49,
   "id": "dd321457-1128-4cc1-b6bf-fa44dcd3530e",
   "metadata": {},
   "outputs": [
    {
     "data": {
      "text/plain": [
       "array([ 2.71828183,  7.3890561 , 20.08553692])"
      ]
     },
     "execution_count": 49,
     "metadata": {},
     "output_type": "execute_result"
    }
   ],
   "source": [
    "np.exp(array1)"
   ]
  },
  {
   "cell_type": "code",
   "execution_count": 50,
   "id": "8690734b-4c1d-4865-a5b2-06467ce27fea",
   "metadata": {},
   "outputs": [
    {
     "data": {
      "text/plain": [
       "array([0.        , 0.69314718, 1.09861229])"
      ]
     },
     "execution_count": 50,
     "metadata": {},
     "output_type": "execute_result"
    }
   ],
   "source": [
    "np.log(array1)"
   ]
  },
  {
   "cell_type": "markdown",
   "id": "0ca1a7a0-d59a-4de0-bdf5-3b509593e2a9",
   "metadata": {
    "jp-MarkdownHeadingCollapsed": true
   },
   "source": [
    "## Aggrigations"
   ]
  },
  {
   "cell_type": "code",
   "execution_count": 51,
   "id": "4fb6e333-92b4-4862-b34b-276e3186ea53",
   "metadata": {},
   "outputs": [
    {
     "data": {
      "text/plain": [
       "[1, 2, 3]"
      ]
     },
     "execution_count": 51,
     "metadata": {},
     "output_type": "execute_result"
    }
   ],
   "source": [
    "list=[1,2,3]\n",
    "list"
   ]
  },
  {
   "cell_type": "code",
   "execution_count": 52,
   "id": "bc85fc19-7f47-4155-a7a5-40d7feba9b38",
   "metadata": {},
   "outputs": [
    {
     "data": {
      "text/plain": [
       "list"
      ]
     },
     "execution_count": 52,
     "metadata": {},
     "output_type": "execute_result"
    }
   ],
   "source": [
    "type(list)"
   ]
  },
  {
   "cell_type": "code",
   "execution_count": 53,
   "id": "f673f98d-7bd2-408c-b500-f824dc633850",
   "metadata": {},
   "outputs": [
    {
     "data": {
      "text/plain": [
       "6"
      ]
     },
     "execution_count": 53,
     "metadata": {},
     "output_type": "execute_result"
    }
   ],
   "source": [
    "sum(list)"
   ]
  },
  {
   "cell_type": "code",
   "execution_count": 54,
   "id": "d6495f17-dc6f-49bb-be6b-657857743ff2",
   "metadata": {},
   "outputs": [
    {
     "data": {
      "text/plain": [
       "6"
      ]
     },
     "execution_count": 54,
     "metadata": {},
     "output_type": "execute_result"
    }
   ],
   "source": [
    "np.sum(list) \n",
    "# Use sum() for python datatypes and np.sum for numpy arrays"
   ]
  },
  {
   "cell_type": "code",
   "execution_count": 55,
   "id": "dca35a4b-5435-4b00-96ee-baf354f0a007",
   "metadata": {},
   "outputs": [
    {
     "data": {
      "text/plain": [
       "array([1, 2, 3])"
      ]
     },
     "execution_count": 55,
     "metadata": {},
     "output_type": "execute_result"
    }
   ],
   "source": [
    "array1"
   ]
  },
  {
   "cell_type": "code",
   "execution_count": 56,
   "id": "17f7b22e-8ffe-47da-b834-33adc005177b",
   "metadata": {},
   "outputs": [],
   "source": [
    "# Massive Arrays\n",
    "massive_arrays= np.random.random(1000)"
   ]
  },
  {
   "cell_type": "code",
   "execution_count": 57,
   "id": "9f995537-bf99-47e8-a077-576bc41c4b81",
   "metadata": {},
   "outputs": [
    {
     "data": {
      "text/plain": [
       "1000"
      ]
     },
     "execution_count": 57,
     "metadata": {},
     "output_type": "execute_result"
    }
   ],
   "source": [
    "massive_arrays.size"
   ]
  },
  {
   "cell_type": "code",
   "execution_count": 58,
   "id": "62ab27c3-5298-4793-8f2a-1c6e18a85fe2",
   "metadata": {},
   "outputs": [
    {
     "data": {
      "text/plain": [
       "array([0.55282148, 0.16494046, 0.36980809, 0.14644176, 0.56961841,\n",
       "       0.70373728, 0.28847644, 0.43328806, 0.75610669, 0.39609828])"
      ]
     },
     "execution_count": 58,
     "metadata": {},
     "output_type": "execute_result"
    }
   ],
   "source": [
    "massive_arrays[:10]"
   ]
  },
  {
   "cell_type": "code",
   "execution_count": 59,
   "id": "b036f263-bc17-41da-8767-6ef880c95bd8",
   "metadata": {},
   "outputs": [
    {
     "name": "stdout",
     "output_type": "stream",
     "text": [
      "69 µs ± 1.28 µs per loop (mean ± std. dev. of 7 runs, 10,000 loops each)\n",
      "4.02 µs ± 189 ns per loop (mean ± std. dev. of 7 runs, 100,000 loops each)\n"
     ]
    }
   ],
   "source": [
    "%timeit sum(massive_arrays)\n",
    "%timeit np.sum(massive_arrays)"
   ]
  },
  {
   "cell_type": "code",
   "execution_count": 60,
   "id": "c7b165a8-697c-4a86-a068-55937b58a4d5",
   "metadata": {},
   "outputs": [
    {
     "data": {
      "text/plain": [
       "array([[1. , 2.5, 3.3],\n",
       "       [4. , 5.6, 6.6]])"
      ]
     },
     "execution_count": 60,
     "metadata": {},
     "output_type": "execute_result"
    }
   ],
   "source": [
    "a2"
   ]
  },
  {
   "cell_type": "code",
   "execution_count": 61,
   "id": "5f8d0e89-e856-4541-a3ea-46cac80179be",
   "metadata": {},
   "outputs": [
    {
     "data": {
      "text/plain": [
       "3.8333333333333335"
      ]
     },
     "execution_count": 61,
     "metadata": {},
     "output_type": "execute_result"
    }
   ],
   "source": [
    "np.mean(a2)"
   ]
  },
  {
   "cell_type": "code",
   "execution_count": 62,
   "id": "605af25b-ef28-4d9b-b0d0-4c60f5edf1cf",
   "metadata": {},
   "outputs": [
    {
     "data": {
      "text/plain": [
       "6.6"
      ]
     },
     "execution_count": 62,
     "metadata": {},
     "output_type": "execute_result"
    }
   ],
   "source": [
    "np.max(a2)"
   ]
  },
  {
   "cell_type": "code",
   "execution_count": 63,
   "id": "3546a52e-0e7f-420a-9171-88d256d3e587",
   "metadata": {},
   "outputs": [
    {
     "name": "stdout",
     "output_type": "stream",
     "text": [
      "1.0\n"
     ]
    }
   ],
   "source": [
    "print(np.min(a2))"
   ]
  },
  {
   "cell_type": "code",
   "execution_count": 64,
   "id": "fc6efba6-a4a5-4f16-822b-ca85e2281db1",
   "metadata": {},
   "outputs": [
    {
     "data": {
      "text/plain": [
       "1.8660713336371206"
      ]
     },
     "execution_count": 64,
     "metadata": {},
     "output_type": "execute_result"
    }
   ],
   "source": [
    "np.std(a2)"
   ]
  },
  {
   "cell_type": "code",
   "execution_count": 65,
   "id": "d74cfaae-2231-47e3-96a4-fc76c1476ab2",
   "metadata": {},
   "outputs": [
    {
     "data": {
      "text/plain": [
       "array([[1.        , 1.58113883, 1.81659021],\n",
       "       [2.        , 2.36643191, 2.56904652]])"
      ]
     },
     "execution_count": 65,
     "metadata": {},
     "output_type": "execute_result"
    }
   ],
   "source": [
    "np.sqrt(a2)"
   ]
  },
  {
   "cell_type": "code",
   "execution_count": 66,
   "id": "bcc738eb-ea1c-4aec-8933-f9edda954ec6",
   "metadata": {},
   "outputs": [
    {
     "data": {
      "text/plain": [
       "array([[1. , 2.5, 3.3],\n",
       "       [4. , 5.6, 6.6]])"
      ]
     },
     "execution_count": 66,
     "metadata": {},
     "output_type": "execute_result"
    }
   ],
   "source": [
    "a2"
   ]
  },
  {
   "cell_type": "code",
   "execution_count": 67,
   "id": "0a16254a-ffd6-44a3-bba4-80661148e26f",
   "metadata": {},
   "outputs": [
    {
     "data": {
      "text/plain": [
       "array([[[ 1. ,  2.5,  3.3],\n",
       "        [ 4. ,  5.6,  6.6],\n",
       "        [ 7.7,  8. ,  9. ]],\n",
       "\n",
       "       [[56. , 76. , 76. ],\n",
       "        [43. , 32. , 23. ],\n",
       "        [21. , 23. , 45. ]]])"
      ]
     },
     "execution_count": 67,
     "metadata": {},
     "output_type": "execute_result"
    }
   ],
   "source": [
    "a3"
   ]
  },
  {
   "cell_type": "code",
   "execution_count": 68,
   "id": "7a6f9489-9594-420d-8cc4-f0debd9c45c3",
   "metadata": {},
   "outputs": [
    {
     "data": {
      "text/plain": [
       "((2, 3), (2, 3, 3))"
      ]
     },
     "execution_count": 68,
     "metadata": {},
     "output_type": "execute_result"
    }
   ],
   "source": [
    "a2.shape, a3.shape"
   ]
  },
  {
   "cell_type": "code",
   "execution_count": 69,
   "id": "1aae709b-3643-423e-a6c5-1007d5d47734",
   "metadata": {},
   "outputs": [
    {
     "ename": "ValueError",
     "evalue": "operands could not be broadcast together with shapes (2,3) (2,3,3) ",
     "output_type": "error",
     "traceback": [
      "\u001b[0;31m---------------------------------------------------------------------------\u001b[0m",
      "\u001b[0;31mValueError\u001b[0m                                Traceback (most recent call last)",
      "Cell \u001b[0;32mIn[69], line 1\u001b[0m\n\u001b[0;32m----> 1\u001b[0m \u001b[43ma2\u001b[49m\u001b[38;5;241;43m*\u001b[39;49m\u001b[43ma3\u001b[49m\n",
      "\u001b[0;31mValueError\u001b[0m: operands could not be broadcast together with shapes (2,3) (2,3,3) "
     ]
    }
   ],
   "source": [
    "a2*a3"
   ]
  },
  {
   "cell_type": "code",
   "execution_count": null,
   "id": "26f4bdfa-ec2e-404d-b1bd-9926667bd6f7",
   "metadata": {},
   "outputs": [],
   "source": [
    "a2"
   ]
  },
  {
   "cell_type": "code",
   "execution_count": null,
   "id": "c8e9b204-ff7b-48fd-8aed-e604fc72ae3e",
   "metadata": {},
   "outputs": [],
   "source": [
    "#Reshape it\n",
    "a2=a2.reshape(2,3,1)"
   ]
  },
  {
   "cell_type": "code",
   "execution_count": null,
   "id": "20eb4195-4c67-4f4d-bdf5-274e1b2b7086",
   "metadata": {},
   "outputs": [],
   "source": [
    "a2 * a3"
   ]
  },
  {
   "cell_type": "code",
   "execution_count": null,
   "id": "9d3b0046-a224-4574-8459-63685c5175ed",
   "metadata": {},
   "outputs": [],
   "source": [
    "a2"
   ]
  },
  {
   "cell_type": "code",
   "execution_count": null,
   "id": "e85f7606-798b-481f-84ab-e633f9282b5a",
   "metadata": {},
   "outputs": [],
   "source": [
    "a2.shape"
   ]
  },
  {
   "cell_type": "code",
   "execution_count": null,
   "id": "54f32fb5-b662-4304-8306-c4c96cd777fd",
   "metadata": {},
   "outputs": [],
   "source": [
    "#Reshape it .swap it..called Transpose\n",
    "a2.T"
   ]
  },
  {
   "cell_type": "markdown",
   "id": "453b18a3-14a0-4a57-8209-b16f41cc8690",
   "metadata": {
    "jp-MarkdownHeadingCollapsed": true
   },
   "source": [
    "# DOT & PRODUCT"
   ]
  },
  {
   "cell_type": "code",
   "execution_count": null,
   "id": "e1721bbf-fa0e-4bec-9769-e9a69c70ab5d",
   "metadata": {},
   "outputs": [],
   "source": [
    "np.random.seed(seed=0)\n",
    "mat1=np.random.randint(10, size=(5,3))\n",
    "mat2=np.random.randint(10,size=(5,3))"
   ]
  },
  {
   "cell_type": "code",
   "execution_count": null,
   "id": "dc2ed2b0-9c87-4c25-8210-324c16379cec",
   "metadata": {},
   "outputs": [],
   "source": [
    "mat1, mat2"
   ]
  },
  {
   "cell_type": "code",
   "execution_count": null,
   "id": "46d0dd6e-1ad0-4e84-9729-d7d66cd43d4a",
   "metadata": {},
   "outputs": [],
   "source": [
    "np.dot(mat1,mat2)"
   ]
  },
  {
   "cell_type": "code",
   "execution_count": null,
   "id": "89f2bc32-e9dd-47da-9484-7ae6a14c4cf4",
   "metadata": {},
   "outputs": [],
   "source": [
    "#Transpose mat1\n",
    "mat1.T"
   ]
  },
  {
   "cell_type": "code",
   "execution_count": null,
   "id": "b6cfd2cc-9f55-49d8-ab76-c395f1b6894b",
   "metadata": {},
   "outputs": [],
   "source": [
    "mat1.T.shape"
   ]
  },
  {
   "cell_type": "code",
   "execution_count": null,
   "id": "8f8acb70-bd8d-4193-80cf-e9664fd6654b",
   "metadata": {},
   "outputs": [],
   "source": [
    "mat3=np.dot(mat1, mat2.T)"
   ]
  },
  {
   "cell_type": "code",
   "execution_count": null,
   "id": "f5bf4232-b763-455b-976f-7e0f570cf43c",
   "metadata": {},
   "outputs": [],
   "source": [
    "mat3"
   ]
  },
  {
   "cell_type": "markdown",
   "id": "b7b10051-c95e-4d18-aba6-8c9d684d64db",
   "metadata": {
    "jp-MarkdownHeadingCollapsed": true
   },
   "source": [
    "# DOT PRODUCT EXAMPLE ( NUT BUTTE SALES)"
   ]
  },
  {
   "cell_type": "code",
   "execution_count": null,
   "id": "44e61f76-a338-422f-9f76-5a345691a489",
   "metadata": {},
   "outputs": [],
   "source": [
    "np.random.seed(seed=0)\n",
    "#Number of jars sold\n",
    "sales_ammounts=np.random.randint(20, size=(5,3))\n",
    "sales_ammounts"
   ]
  },
  {
   "cell_type": "code",
   "execution_count": null,
   "id": "5e24aba8-8b75-41ad-aa0e-afc3eabfc73d",
   "metadata": {},
   "outputs": [],
   "source": [
    "#write weekly_sales DataFrames\n",
    "weekly_sales=pd.DataFrame(sales_ammounts,\n",
    "                          index=[\"Mon\",\"Tues\",\"Wed\",\"Thurs\",\"Fri\"],\n",
    "                          columns=[\"Almond Butter\",\"Peanut Butter\",\"Cashew Butter\"])\n",
    "weekly_sales"
   ]
  },
  {
   "cell_type": "code",
   "execution_count": null,
   "id": "85523458-2c37-4c04-be2c-13e7821f5e65",
   "metadata": {},
   "outputs": [],
   "source": [
    "#Create prices array\n",
    "prices=np.array([8,11,14])\n",
    "prices"
   ]
  },
  {
   "cell_type": "code",
   "execution_count": null,
   "id": "208ae292-a3e5-479c-8e09-6914082a1bfc",
   "metadata": {},
   "outputs": [],
   "source": [
    "prices.shape"
   ]
  },
  {
   "cell_type": "code",
   "execution_count": null,
   "id": "3f0877f0-1b3a-4ae9-9d92-80f240c108dc",
   "metadata": {},
   "outputs": [],
   "source": [
    "#Create Butter_Prices DataFrames\n",
    "butter_prices=pd.DataFrame(prices.reshape(1,3), #reshape it its (3,) we have reshape it to (1,3)\n",
    "                           index=[\"Price\"], \n",
    "                           columns=[\"Almond Butter\",\"Peanut Butter\",\"Cashew Butter\"])\n",
    "butter_prices"
   ]
  },
  {
   "cell_type": "code",
   "execution_count": null,
   "id": "0089975b-79ea-41a7-9562-4f7ace9de0b9",
   "metadata": {},
   "outputs": [],
   "source": [
    "weekly_sales"
   ]
  },
  {
   "cell_type": "code",
   "execution_count": null,
   "id": "a0e73c7e-40ab-4dee-8cbb-6a3b559d1e86",
   "metadata": {},
   "outputs": [],
   "source": [
    "butter_prices.shape, weekly_sales.shape"
   ]
  },
  {
   "cell_type": "code",
   "execution_count": null,
   "id": "aaf959b3-182d-4143-8a3b-564abc4400b1",
   "metadata": {},
   "outputs": [],
   "source": [
    "weekly_sales.T.shape"
   ]
  },
  {
   "cell_type": "code",
   "execution_count": null,
   "id": "2d52b14f-97da-41f5-9a99-6f2502bdd7ff",
   "metadata": {},
   "outputs": [],
   "source": [
    "daily_sales=butter_prices.dot(weekly_sales.T)\n",
    "daily_sales"
   ]
  },
  {
   "cell_type": "code",
   "execution_count": null,
   "id": "4f124058-bbb9-4738-a1a8-2e68516b006b",
   "metadata": {},
   "outputs": [],
   "source": [
    "weekly_sales"
   ]
  },
  {
   "cell_type": "code",
   "execution_count": null,
   "id": "9608554e-a380-4c63-8e67-d23216626ae0",
   "metadata": {},
   "outputs": [],
   "source": [
    "weekly_sales[\"Total ($)\"]=daily_sales.T\n",
    "weekly_sales"
   ]
  },
  {
   "cell_type": "code",
   "execution_count": 80,
   "id": "fbdf99f3-e9b2-4e0a-aff1-0b1b956aca04",
   "metadata": {},
   "outputs": [
    {
     "ename": "NameError",
     "evalue": "name 'daily_sales' is not defined",
     "output_type": "error",
     "traceback": [
      "\u001b[0;31m---------------------------------------------------------------------------\u001b[0m",
      "\u001b[0;31mNameError\u001b[0m                                 Traceback (most recent call last)",
      "Cell \u001b[0;32mIn[80], line 1\u001b[0m\n\u001b[0;32m----> 1\u001b[0m \u001b[43mdaily_sales\u001b[49m\n",
      "\u001b[0;31mNameError\u001b[0m: name 'daily_sales' is not defined"
     ]
    }
   ],
   "source": [
    "daily_sales"
   ]
  },
  {
   "cell_type": "markdown",
   "id": "dc7ff0d0-0049-4058-9407-1a7a25ea54c1",
   "metadata": {
    "jp-MarkdownHeadingCollapsed": true
   },
   "source": [
    "# Comparison Operators"
   ]
  },
  {
   "cell_type": "code",
   "execution_count": 71,
   "id": "93ae3981-4310-4e64-a5c9-93736b6a4912",
   "metadata": {},
   "outputs": [],
   "source": [
    "a1=array1"
   ]
  },
  {
   "cell_type": "code",
   "execution_count": 72,
   "id": "e584693e-3404-434a-af8a-fa6708054ffb",
   "metadata": {},
   "outputs": [
    {
     "data": {
      "text/plain": [
       "array([1, 2, 3])"
      ]
     },
     "execution_count": 72,
     "metadata": {},
     "output_type": "execute_result"
    }
   ],
   "source": [
    "a1"
   ]
  },
  {
   "cell_type": "code",
   "execution_count": 73,
   "id": "f9748103-21f5-448f-bdb4-bf87ef66726c",
   "metadata": {},
   "outputs": [
    {
     "data": {
      "text/plain": [
       "array([[1. , 2.5, 3.3],\n",
       "       [4. , 5.6, 6.6]])"
      ]
     },
     "execution_count": 73,
     "metadata": {},
     "output_type": "execute_result"
    }
   ],
   "source": [
    "a2"
   ]
  },
  {
   "cell_type": "code",
   "execution_count": 74,
   "id": "41e1f2cb-c8fa-4ac3-964c-dc43ff161653",
   "metadata": {},
   "outputs": [
    {
     "data": {
      "text/plain": [
       "array([[False, False, False],\n",
       "       [False, False, False]])"
      ]
     },
     "execution_count": 74,
     "metadata": {},
     "output_type": "execute_result"
    }
   ],
   "source": [
    "a1>a2"
   ]
  },
  {
   "cell_type": "code",
   "execution_count": 75,
   "id": "f259b3a1-2dd5-4ce5-9eee-226071b498a9",
   "metadata": {},
   "outputs": [
    {
     "data": {
      "text/plain": [
       "array([[ True, False, False],\n",
       "       [False, False, False]])"
      ]
     },
     "execution_count": 75,
     "metadata": {},
     "output_type": "execute_result"
    }
   ],
   "source": [
    "a1>=a2"
   ]
  },
  {
   "cell_type": "code",
   "execution_count": 76,
   "id": "89188208-a833-4c81-9ac6-870296653c1b",
   "metadata": {},
   "outputs": [],
   "source": [
    "bool_arrays=a1>=a2"
   ]
  },
  {
   "cell_type": "code",
   "execution_count": 77,
   "id": "c9b2cee4-eaf6-4bc3-876e-194454189a11",
   "metadata": {},
   "outputs": [
    {
     "data": {
      "text/plain": [
       "numpy.ndarray"
      ]
     },
     "execution_count": 77,
     "metadata": {},
     "output_type": "execute_result"
    }
   ],
   "source": [
    "type(bool_arrays)"
   ]
  },
  {
   "cell_type": "code",
   "execution_count": 78,
   "id": "154d880c-0440-4aa1-ae35-8459ed413ef5",
   "metadata": {},
   "outputs": [
    {
     "data": {
      "text/plain": [
       "dtype('bool')"
      ]
     },
     "execution_count": 78,
     "metadata": {},
     "output_type": "execute_result"
    }
   ],
   "source": [
    "bool_arrays.dtype"
   ]
  },
  {
   "cell_type": "code",
   "execution_count": 79,
   "id": "9e9b7e6f-c76d-4ad3-822b-0da24e4686c9",
   "metadata": {},
   "outputs": [
    {
     "data": {
      "text/plain": [
       "array([[ True, False, False],\n",
       "       [False, False, False]])"
      ]
     },
     "execution_count": 79,
     "metadata": {},
     "output_type": "execute_result"
    }
   ],
   "source": [
    "a1==a2"
   ]
  },
  {
   "cell_type": "markdown",
   "id": "6e3fd32d-2276-41c4-bd68-beebd3a41991",
   "metadata": {
    "jp-MarkdownHeadingCollapsed": true
   },
   "source": [
    "# Sorting Arrays"
   ]
  },
  {
   "cell_type": "code",
   "execution_count": 83,
   "id": "59f0c308-92ab-4217-9c29-a5a9e56e8bbe",
   "metadata": {},
   "outputs": [
    {
     "data": {
      "text/plain": [
       "(array([[4, 7, 2, 9, 6],\n",
       "        [7, 3, 6, 8, 1],\n",
       "        [8, 2, 4, 7, 8]]),\n",
       " (3, 5))"
      ]
     },
     "execution_count": 83,
     "metadata": {},
     "output_type": "execute_result"
    }
   ],
   "source": [
    "random_array, random_array.shape"
   ]
  },
  {
   "cell_type": "code",
   "execution_count": 84,
   "id": "c5d33979-26c1-4037-8729-c27b0876dfb3",
   "metadata": {},
   "outputs": [
    {
     "data": {
      "text/plain": [
       "array([[2, 4, 6, 7, 9],\n",
       "       [1, 3, 6, 7, 8],\n",
       "       [2, 4, 7, 8, 8]])"
      ]
     },
     "execution_count": 84,
     "metadata": {},
     "output_type": "execute_result"
    }
   ],
   "source": [
    "np.sort(random_array)"
   ]
  },
  {
   "cell_type": "code",
   "execution_count": 85,
   "id": "a2e8515d-235b-442b-a81c-53dd1faded4b",
   "metadata": {},
   "outputs": [
    {
     "data": {
      "text/plain": [
       "array([[2, 0, 4, 1, 3],\n",
       "       [4, 1, 2, 0, 3],\n",
       "       [1, 2, 3, 0, 4]])"
      ]
     },
     "execution_count": 85,
     "metadata": {},
     "output_type": "execute_result"
    }
   ],
   "source": [
    "np.argsort(random_array)"
   ]
  },
  {
   "cell_type": "code",
   "execution_count": 86,
   "id": "71c3989e-9209-4eb0-a906-fa0b97917997",
   "metadata": {},
   "outputs": [
    {
     "data": {
      "text/plain": [
       "3"
      ]
     },
     "execution_count": 86,
     "metadata": {},
     "output_type": "execute_result"
    }
   ],
   "source": [
    "np.argmax(random_array)"
   ]
  },
  {
   "cell_type": "code",
   "execution_count": 87,
   "id": "90acdc7b-6d50-471e-a516-f5fba24ccec7",
   "metadata": {},
   "outputs": [
    {
     "data": {
      "text/plain": [
       "9"
      ]
     },
     "execution_count": 87,
     "metadata": {},
     "output_type": "execute_result"
    }
   ],
   "source": [
    "np.argmin(random_array)"
   ]
  },
  {
   "cell_type": "markdown",
   "id": "dd7cdaa7-2bc9-4267-b161-bc9d403b9e1a",
   "metadata": {},
   "source": [
    "# Practical Numpy in Actions"
   ]
  },
  {
   "cell_type": "markdown",
   "id": "7933cfc8-7e83-4c65-8821-58a458d88d73",
   "metadata": {},
   "source": [
    "<img src=\"images/panda.png\">"
   ]
  },
  {
   "cell_type": "code",
   "execution_count": 89,
   "id": "4ef953d1-0486-41ff-a542-41dbfa886985",
   "metadata": {},
   "outputs": [],
   "source": [
    "#Turn image into Numpy\n",
    "from matplotlib.image import imread\n",
    "panda=imread(\"images/panda.png\")"
   ]
  },
  {
   "cell_type": "code",
   "execution_count": 90,
   "id": "41711496-2d08-4eee-a7b7-e609bcbf170f",
   "metadata": {},
   "outputs": [
    {
     "data": {
      "text/plain": [
       "dtype('float32')"
      ]
     },
     "execution_count": 90,
     "metadata": {},
     "output_type": "execute_result"
    }
   ],
   "source": [
    "panda.dtype"
   ]
  },
  {
   "cell_type": "code",
   "execution_count": 91,
   "id": "6b7b9cec-e3a0-4e88-8d40-744bf0ca959e",
   "metadata": {},
   "outputs": [
    {
     "data": {
      "text/plain": [
       "numpy.ndarray"
      ]
     },
     "execution_count": 91,
     "metadata": {},
     "output_type": "execute_result"
    }
   ],
   "source": [
    "type(panda)"
   ]
  },
  {
   "cell_type": "code",
   "execution_count": 93,
   "id": "bd94a613-4a5b-4755-8d3c-91c6aa42fab7",
   "metadata": {},
   "outputs": [
    {
     "data": {
      "text/plain": [
       "(24465000, (2330, 3500, 3), 3)"
      ]
     },
     "execution_count": 93,
     "metadata": {},
     "output_type": "execute_result"
    }
   ],
   "source": [
    "panda.size, panda.shape, panda.ndim"
   ]
  },
  {
   "cell_type": "code",
   "execution_count": 94,
   "id": "f5f64187-493c-4899-a0fa-8855dc0f6bc9",
   "metadata": {},
   "outputs": [
    {
     "data": {
      "text/plain": [
       "array([[[0.05490196, 0.10588235, 0.06666667],\n",
       "        [0.05490196, 0.10588235, 0.06666667],\n",
       "        [0.05490196, 0.10588235, 0.06666667],\n",
       "        ...,\n",
       "        [0.16470589, 0.12941177, 0.09411765],\n",
       "        [0.16470589, 0.12941177, 0.09411765],\n",
       "        [0.16470589, 0.12941177, 0.09411765]],\n",
       "\n",
       "       [[0.05490196, 0.10588235, 0.06666667],\n",
       "        [0.05490196, 0.10588235, 0.06666667],\n",
       "        [0.05490196, 0.10588235, 0.06666667],\n",
       "        ...,\n",
       "        [0.16470589, 0.12941177, 0.09411765],\n",
       "        [0.16470589, 0.12941177, 0.09411765],\n",
       "        [0.16470589, 0.12941177, 0.09411765]],\n",
       "\n",
       "       [[0.05490196, 0.10588235, 0.06666667],\n",
       "        [0.05490196, 0.10588235, 0.06666667],\n",
       "        [0.05490196, 0.10588235, 0.06666667],\n",
       "        ...,\n",
       "        [0.16470589, 0.12941177, 0.09411765],\n",
       "        [0.16470589, 0.12941177, 0.09411765],\n",
       "        [0.16470589, 0.12941177, 0.09411765]],\n",
       "\n",
       "       [[0.05490196, 0.10588235, 0.06666667],\n",
       "        [0.05490196, 0.10588235, 0.06666667],\n",
       "        [0.05490196, 0.10588235, 0.06666667],\n",
       "        ...,\n",
       "        [0.16862746, 0.13333334, 0.09803922],\n",
       "        [0.16862746, 0.13333334, 0.09803922],\n",
       "        [0.16862746, 0.13333334, 0.09803922]],\n",
       "\n",
       "       [[0.05490196, 0.10588235, 0.06666667],\n",
       "        [0.05490196, 0.10588235, 0.06666667],\n",
       "        [0.05490196, 0.10588235, 0.06666667],\n",
       "        ...,\n",
       "        [0.16862746, 0.13333334, 0.09803922],\n",
       "        [0.16862746, 0.13333334, 0.09803922],\n",
       "        [0.16862746, 0.13333334, 0.09803922]]], dtype=float32)"
      ]
     },
     "execution_count": 94,
     "metadata": {},
     "output_type": "execute_result"
    }
   ],
   "source": [
    " panda[:5]"
   ]
  },
  {
   "cell_type": "markdown",
   "id": "c9c66ce2-c8a7-49a6-a7dc-1ae79357734b",
   "metadata": {},
   "source": [
    "<img src=\"images/car-photo.png\">"
   ]
  },
  {
   "cell_type": "code",
   "execution_count": 96,
   "id": "658aed5d-6957-4b78-bea8-dc1d3f026e5b",
   "metadata": {},
   "outputs": [],
   "source": [
    "car=imread(\"images/car-photo.png\")"
   ]
  },
  {
   "cell_type": "code",
   "execution_count": 101,
   "id": "3d705046-eaea-4701-8885-24eaa7b2cea5",
   "metadata": {},
   "outputs": [
    {
     "data": {
      "text/plain": [
       "(array([[[0.5019608 , 0.50980395, 0.4862745 , 1.        ],\n",
       "         [0.3372549 , 0.34509805, 0.30588236, 1.        ],\n",
       "         [0.20392157, 0.21568628, 0.14901961, 1.        ],\n",
       "         ...,\n",
       "         [0.64705884, 0.7058824 , 0.54901963, 1.        ],\n",
       "         [0.59607846, 0.63529414, 0.45882353, 1.        ],\n",
       "         [0.44705883, 0.47058824, 0.3372549 , 1.        ]],\n",
       " \n",
       "        [[0.44313726, 0.43529412, 0.40392157, 1.        ],\n",
       "         [0.3137255 , 0.31764707, 0.27450982, 1.        ],\n",
       "         [0.2       , 0.21176471, 0.14117648, 1.        ],\n",
       "         ...,\n",
       "         [0.5058824 , 0.5372549 , 0.4117647 , 1.        ],\n",
       "         [0.49803922, 0.52156866, 0.39607844, 1.        ],\n",
       "         [0.4       , 0.42745098, 0.34117648, 1.        ]]], dtype=float32),\n",
       " (431, 575, 4),\n",
       " 3,\n",
       " numpy.ndarray,\n",
       " 991300)"
      ]
     },
     "execution_count": 101,
     "metadata": {},
     "output_type": "execute_result"
    }
   ],
   "source": [
    "car[:2], car.shape, car.ndim, type(car), car.size"
   ]
  },
  {
   "cell_type": "markdown",
   "id": "1a96c932-c049-48dc-a48d-54c49624fdad",
   "metadata": {},
   "source": [
    "<img src=\"images/dog-photo.png\">"
   ]
  },
  {
   "cell_type": "code",
   "execution_count": 102,
   "id": "e5bb624c-bfb0-40b3-b62f-631288a5e244",
   "metadata": {},
   "outputs": [],
   "source": [
    "dog=imread(\"images/dog-photo.png\")"
   ]
  },
  {
   "cell_type": "code",
   "execution_count": 104,
   "id": "001ee2f5-e042-4c77-a235-702a083db5fc",
   "metadata": {},
   "outputs": [
    {
     "data": {
      "text/plain": [
       "(array([[[0.70980394, 0.80784315, 0.88235295, 1.        ],\n",
       "         [0.72156864, 0.8117647 , 0.8862745 , 1.        ],\n",
       "         [0.7411765 , 0.8156863 , 0.8862745 , 1.        ],\n",
       "         ...,\n",
       "         [0.49803922, 0.6862745 , 0.8392157 , 1.        ],\n",
       "         [0.49411765, 0.68235296, 0.8392157 , 1.        ],\n",
       "         [0.49411765, 0.68235296, 0.8352941 , 1.        ]]], dtype=float32),\n",
       " 993600,\n",
       " 3,\n",
       " numpy.ndarray)"
      ]
     },
     "execution_count": 104,
     "metadata": {},
     "output_type": "execute_result"
    }
   ],
   "source": [
    "dog[:1], dog.size, dog.ndim, type(dog)"
   ]
  },
  {
   "cell_type": "code",
   "execution_count": null,
   "id": "2b349a1e-3f55-42af-8372-a2c4c7f1e1a5",
   "metadata": {},
   "outputs": [],
   "source": []
  }
 ],
 "metadata": {
  "kernelspec": {
   "display_name": "Python 3 (ipykernel)",
   "language": "python",
   "name": "python3"
  },
  "language_info": {
   "codemirror_mode": {
    "name": "ipython",
    "version": 3
   },
   "file_extension": ".py",
   "mimetype": "text/x-python",
   "name": "python",
   "nbconvert_exporter": "python",
   "pygments_lexer": "ipython3",
   "version": "3.11.9"
  }
 },
 "nbformat": 4,
 "nbformat_minor": 5
}
